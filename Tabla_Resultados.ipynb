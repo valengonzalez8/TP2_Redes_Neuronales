{
 "cells": [
  {
   "cell_type": "markdown",
   "metadata": {},
   "source": [
    "# Tabla de Resultados"
   ]
  },
  {
   "cell_type": "markdown",
   "metadata": {},
   "source": [
    "|                    **Submision**                    |         **Model**        | **Learning Rate** | **Private Score** | **Public Score** |\n",
    "|:---------------------------------------------------:|:------------------------:|:-----------------:|:-----------------:|:----------------:|\n",
    "| submision_True-False-linear-0.001-1000-20-256-0.001 |        Full Model        |       0.001       |      0.14833      |      0.15929     |\n",
    "|              submision_True-5-4000-0.05             |         Light GBM        |        0.05       |      0.11878      |      0.11879     |\n",
    "|              submision_True-5-4000-0.25             |          XGBoost         |        0.25       |      0.13759      |      0.13261     |\n",
    "|     submision_lightgbm_last_week-True-5-4000-0.1    | Light GBM - hyp - search |        0.1        |      0.14358      |      0.16013     |\n",
    "|  submision_True-False-linear-0.001-1000-20-256-0.01 |        Full Model        |        0.01       |      0.14420      |      0.14791     |\n",
    "|              submision_True-5-4000-0.02             |         Light GBM        |        0.02       |      0.17166      |      0.16857     |\n",
    "|              submision_True-5-4000-0.01             |         Light GBM        |        0.01       |      0.19133      |      0.19462     |\n",
    "|              submision_True-5-4000-0.1              |         Light GBM        |        0.1        |      0.17706      |      0.17840     |"
   ]
  },
  {
   "cell_type": "markdown",
   "metadata": {},
   "source": [
    "Vemos que los mejores resultados obtenidos fueron con los valores de learning rate que venian por default. Al cambiar el learning rate, el score empeora para todos los modelos excepto para el Full Model en el cual se obtuvo un mejor score al cambiar el learning rate a 0.01. Además, se probo cambiar el numero de epochs pero el resultado tambien empeoró. \n",
    "\n",
    "Finalmente, vemos que el mejor resultado fue 0.11879, obtenido con el modelo Light GBM. "
   ]
  }
 ],
 "metadata": {
  "kernelspec": {
   "display_name": "Python 3.9.13 64-bit (microsoft store)",
   "language": "python",
   "name": "python3"
  },
  "language_info": {
   "name": "python",
   "version": "3.9.13"
  },
  "orig_nbformat": 4,
  "vscode": {
   "interpreter": {
    "hash": "28cdfdf04ec732cfa4ee0abe34167ff9c434198137ec9cdd92d7c2dee17633c9"
   }
  }
 },
 "nbformat": 4,
 "nbformat_minor": 2
}
